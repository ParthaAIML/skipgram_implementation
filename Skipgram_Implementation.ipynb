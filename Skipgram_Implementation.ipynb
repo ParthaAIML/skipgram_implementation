{
 "cells": [
  {
   "cell_type": "markdown",
   "metadata": {
    "id": "KN2WiZRIlE1q"
   },
   "source": [
    "## Skipgram Word2Vec Model"
   ]
  },
  {
   "cell_type": "code",
   "execution_count": 24,
   "metadata": {
    "executionInfo": {
     "elapsed": 814,
     "status": "ok",
     "timestamp": 1712659656770,
     "user": {
      "displayName": "Partha Sarathi Chakraborty",
      "userId": "13360791428869082126"
     },
     "user_tz": -330
    },
    "id": "CqOpHkKNk9_m"
   },
   "outputs": [],
   "source": [
    "import numpy as np\n",
    "import matplotlib.pyplot as plt\n",
    "import pandas as pd\n",
    "import re\n",
    "\n",
    "import torch\n",
    "import torch.nn as nn\n",
    "from torch.utils.data import Dataset\n",
    "from torch.utils.data import DataLoader"
   ]
  },
  {
   "cell_type": "markdown",
   "metadata": {
    "id": "6F-6_5c1q8sM"
   },
   "source": [
    "### Data"
   ]
  },
  {
   "cell_type": "code",
   "execution_count": 25,
   "metadata": {
    "executionInfo": {
     "elapsed": 12,
     "status": "ok",
     "timestamp": 1712659656770,
     "user": {
      "displayName": "Partha Sarathi Chakraborty",
      "userId": "13360791428869082126"
     },
     "user_tz": -330
    },
    "id": "g2bwZ3refovM"
   },
   "outputs": [],
   "source": [
    "text_data=\"There was once a hare who was friends with a tortoise. One day, he challenged the tortoise to a race. Seeing how slow the tortoise was going, the hare thought he’d win this easily. So, he took a nap while the tortoise kept on going. When the hare woke, he saw that the tortoise was already at the finish line. Much to his chagrin, the tortoise won the race while he was busy sleeping\""
   ]
  },
  {
   "cell_type": "code",
   "execution_count": 26,
   "metadata": {
    "executionInfo": {
     "elapsed": 11,
     "status": "ok",
     "timestamp": 1712659656770,
     "user": {
      "displayName": "Partha Sarathi Chakraborty",
      "userId": "13360791428869082126"
     },
     "user_tz": -330
    },
    "id": "3lnOM1-B0un6"
   },
   "outputs": [],
   "source": [
    "def remove_punctuations(text,list_of_punctuations=[\",\",\".\",\"'\",\"!\",\";\",\":\",\"?\"]):\n",
    "  for i in list_of_punctuations:\n",
    "    text=text.replace(i,\"\")\n",
    "  return text\n",
    "\n",
    "def preprocess_text(text):\n",
    "  text=re.findall(\"[A-Za-z]+\",text)\n",
    "  text=[a for a in text if a not in ['a','an','the','is','are','to','was']]\n",
    "  text=[b for b in text if len(b)>1]\n",
    "  text=[i.lower() for i in text]\n",
    "  text=\" \".join(text)\n",
    "  return text"
   ]
  },
  {
   "cell_type": "code",
   "execution_count": 27,
   "metadata": {
    "executionInfo": {
     "elapsed": 12,
     "status": "ok",
     "timestamp": 1712659656771,
     "user": {
      "displayName": "Partha Sarathi Chakraborty",
      "userId": "13360791428869082126"
     },
     "user_tz": -330
    },
    "id": "gCu3lw9y1zhp"
   },
   "outputs": [],
   "source": [
    "text_data=remove_punctuations(text_data)\n",
    "text_data=preprocess_text(text_data)"
   ]
  },
  {
   "cell_type": "code",
   "execution_count": 28,
   "metadata": {
    "colab": {
     "base_uri": "https://localhost:8080/"
    },
    "executionInfo": {
     "elapsed": 11,
     "status": "ok",
     "timestamp": 1712659656771,
     "user": {
      "displayName": "Partha Sarathi Chakraborty",
      "userId": "13360791428869082126"
     },
     "user_tz": -330
    },
    "id": "uHsVOfdqcLwn",
    "outputId": "755b6fde-fc8c-40fd-fdd5-f5b4e835f63b"
   },
   "outputs": [
    {
     "name": "stdout",
     "output_type": "stream",
     "text": [
      "there once hare who friends with tortoise one day he challenged tortoise race seeing how slow tortoise going hare thought he win this easily so he took nap while tortoise kept on going when hare woke he saw that tortoise already at finish line much his chagrin tortoise won race while he busy sleeping\n"
     ]
    }
   ],
   "source": [
    "print(text_data)"
   ]
  },
  {
   "cell_type": "code",
   "execution_count": 29,
   "metadata": {
    "executionInfo": {
     "elapsed": 10,
     "status": "ok",
     "timestamp": 1712659656771,
     "user": {
      "displayName": "Partha Sarathi Chakraborty",
      "userId": "13360791428869082126"
     },
     "user_tz": -330
    },
    "id": "r_dusGKE4m3k"
   },
   "outputs": [],
   "source": [
    "def generate_data_dictionary(text):\n",
    "  corpus=text.split(\" \")\n",
    "  word_to_index={}\n",
    "  index_to_word={}\n",
    "  ind=0\n",
    "  for c in corpus:\n",
    "    if c not in word_to_index.keys():\n",
    "      word_to_index[c]=ind\n",
    "      index_to_word[ind]=c\n",
    "      ind+=1\n",
    "  vocab_size=len(word_to_index)\n",
    "  return corpus, word_to_index,index_to_word,vocab_size"
   ]
  },
  {
   "cell_type": "code",
   "execution_count": 30,
   "metadata": {
    "executionInfo": {
     "elapsed": 10,
     "status": "ok",
     "timestamp": 1712659656771,
     "user": {
      "displayName": "Partha Sarathi Chakraborty",
      "userId": "13360791428869082126"
     },
     "user_tz": -330
    },
    "id": "YBtG7ra-4OZg"
   },
   "outputs": [],
   "source": [
    "corpus, word_to_index,index_to_word,vocab_size=generate_data_dictionary(text_data)"
   ]
  },
  {
   "cell_type": "code",
   "execution_count": 31,
   "metadata": {
    "executionInfo": {
     "elapsed": 10,
     "status": "ok",
     "timestamp": 1712659656771,
     "user": {
      "displayName": "Partha Sarathi Chakraborty",
      "userId": "13360791428869082126"
     },
     "user_tz": -330
    },
    "id": "Exp0eLwOAvLt"
   },
   "outputs": [],
   "source": [
    "def create_target_context_indices_pairs(corpus,context_window=2):\n",
    "  target_context_map={}\n",
    "  for i,word in enumerate(corpus):\n",
    "    context_indices_list=[]\n",
    "    if i==0:\n",
    "      context_indices=list(range(1,context_window+1))\n",
    "      context_indices_list.extend(context_indices)\n",
    "      target_context_map[i]=context_indices_list\n",
    "    elif i==len(corpus)-1:\n",
    "      context_indices=list(range(len(corpus)-2,len(corpus)-2-context_window,-1))\n",
    "      context_indices_list.extend(context_indices)\n",
    "      target_context_map[i]=context_indices_list\n",
    "    else:\n",
    "      right_context_indices=list(range(i+1,i+context_window+1))\n",
    "      right_context_indices=[i for i in right_context_indices if i<=len(corpus)-1]\n",
    "      left_context_indices=list(range(i-1,i-1-context_window,-1))\n",
    "      left_context_indices=[i for i in left_context_indices if i>=0]\n",
    "      left_context_indices=[i for i in left_context_indices if i<=len(corpus)-1]\n",
    "      context_indices_list.extend(right_context_indices+left_context_indices)\n",
    "      target_context_map[i]=context_indices_list\n",
    "  return target_context_map"
   ]
  },
  {
   "cell_type": "code",
   "execution_count": 32,
   "metadata": {
    "executionInfo": {
     "elapsed": 9,
     "status": "ok",
     "timestamp": 1712659656771,
     "user": {
      "displayName": "Partha Sarathi Chakraborty",
      "userId": "13360791428869082126"
     },
     "user_tz": -330
    },
    "id": "SRV6O3MeDm5z"
   },
   "outputs": [],
   "source": [
    "def crete_target_context_pair(target_context_map,corpus):\n",
    "  pair_list=[]\n",
    "  for i in target_context_map.keys():\n",
    "    for j in target_context_map[i]:\n",
    "      pair_list.append((corpus[i],corpus[j]))\n",
    "  return pair_list\n"
   ]
  },
  {
   "cell_type": "code",
   "execution_count": 33,
   "metadata": {
    "executionInfo": {
     "elapsed": 9,
     "status": "ok",
     "timestamp": 1712659656771,
     "user": {
      "displayName": "Partha Sarathi Chakraborty",
      "userId": "13360791428869082126"
     },
     "user_tz": -330
    },
    "id": "V_TzOCNcDm1X"
   },
   "outputs": [],
   "source": [
    "map_=create_target_context_indices_pairs(corpus,context_window=2)\n",
    "target_context_pair=crete_target_context_pair(map_,corpus)"
   ]
  },
  {
   "cell_type": "code",
   "execution_count": 34,
   "metadata": {
    "colab": {
     "base_uri": "https://localhost:8080/"
    },
    "executionInfo": {
     "elapsed": 9,
     "status": "ok",
     "timestamp": 1712659656771,
     "user": {
      "displayName": "Partha Sarathi Chakraborty",
      "userId": "13360791428869082126"
     },
     "user_tz": -330
    },
    "id": "jRdHocps6iV6",
    "outputId": "ec21e5c7-31aa-4bb1-cd38-60455dce68d8"
   },
   "outputs": [
    {
     "data": {
      "text/plain": [
       "[('there', 'once'),\n",
       " ('there', 'hare'),\n",
       " ('once', 'hare'),\n",
       " ('once', 'who'),\n",
       " ('once', 'there'),\n",
       " ('hare', 'who'),\n",
       " ('hare', 'friends'),\n",
       " ('hare', 'once'),\n",
       " ('hare', 'there'),\n",
       " ('who', 'friends')]"
      ]
     },
     "execution_count": 34,
     "metadata": {},
     "output_type": "execute_result"
    }
   ],
   "source": [
    "target_context_pair[:10]"
   ]
  },
  {
   "cell_type": "code",
   "execution_count": 35,
   "metadata": {
    "executionInfo": {
     "elapsed": 6,
     "status": "ok",
     "timestamp": 1712659656772,
     "user": {
      "displayName": "Partha Sarathi Chakraborty",
      "userId": "13360791428869082126"
     },
     "user_tz": -330
    },
    "id": "ppSOtMixcmDa"
   },
   "outputs": [],
   "source": [
    "def create_tarining_data(target_context_pair,word_to_index):\n",
    "  x_feature=[]\n",
    "  y_feature=[]\n",
    "  for pair in target_context_pair:\n",
    "    target=pair[0]\n",
    "    context=pair[1]\n",
    "    target_vec=[0]*len(word_to_index)\n",
    "    context_vec=[0]*len(word_to_index)\n",
    "    target_vec[word_to_index[target]]=1\n",
    "    context_vec[word_to_index[context]]=1\n",
    "    target_vec=torch.tensor(target_vec,dtype=torch.float32)\n",
    "    context_vec=torch.tensor(context_vec,dtype=torch.float32)\n",
    "    x_feature.append(target_vec)\n",
    "    y_feature.append(context_vec)\n",
    "  return x_feature,y_feature"
   ]
  },
  {
   "cell_type": "code",
   "execution_count": 36,
   "metadata": {
    "executionInfo": {
     "elapsed": 16,
     "status": "ok",
     "timestamp": 1712659657427,
     "user": {
      "displayName": "Partha Sarathi Chakraborty",
      "userId": "13360791428869082126"
     },
     "user_tz": -330
    },
    "id": "Ht6Uo77jeyRv"
   },
   "outputs": [],
   "source": [
    "x,y=create_tarining_data(target_context_pair,word_to_index)"
   ]
  },
  {
   "cell_type": "code",
   "execution_count": 37,
   "metadata": {
    "executionInfo": {
     "elapsed": 16,
     "status": "ok",
     "timestamp": 1712659657428,
     "user": {
      "displayName": "Partha Sarathi Chakraborty",
      "userId": "13360791428869082126"
     },
     "user_tz": -330
    },
    "id": "csDxxOTFgKMz"
   },
   "outputs": [],
   "source": [
    "class skipgram_dataset(Dataset):\n",
    "\n",
    "  def __init__(self,x_feat,y_feat):\n",
    "    super().__init__()\n",
    "    self.x_feat=x_feat\n",
    "    self.y_feat=y_feat\n",
    "\n",
    "  def __getitem__(self,idx):\n",
    "    x_value=self.x_feat[idx]\n",
    "    y_value=self.y_feat[idx]\n",
    "    return x_value,y_value\n",
    "\n",
    "  def __len__(self):\n",
    "    return len(self.y_feat)"
   ]
  },
  {
   "cell_type": "code",
   "execution_count": 38,
   "metadata": {
    "executionInfo": {
     "elapsed": 15,
     "status": "ok",
     "timestamp": 1712659657428,
     "user": {
      "displayName": "Partha Sarathi Chakraborty",
      "userId": "13360791428869082126"
     },
     "user_tz": -330
    },
    "id": "FY9X6vp9gKKQ"
   },
   "outputs": [],
   "source": [
    "training_data=skipgram_dataset(x,y)"
   ]
  },
  {
   "cell_type": "code",
   "execution_count": 39,
   "metadata": {
    "executionInfo": {
     "elapsed": 15,
     "status": "ok",
     "timestamp": 1712659657429,
     "user": {
      "displayName": "Partha Sarathi Chakraborty",
      "userId": "13360791428869082126"
     },
     "user_tz": -330
    },
    "id": "0mOmZaVzgKHO"
   },
   "outputs": [],
   "source": [
    "train_data_loader=DataLoader(training_data,batch_size=10,shuffle=False)"
   ]
  },
  {
   "cell_type": "code",
   "execution_count": 40,
   "metadata": {
    "colab": {
     "base_uri": "https://localhost:8080/"
    },
    "executionInfo": {
     "elapsed": 14,
     "status": "ok",
     "timestamp": 1712659657429,
     "user": {
      "displayName": "Partha Sarathi Chakraborty",
      "userId": "13360791428869082126"
     },
     "user_tz": -330
    },
    "id": "0dgn5FEwgKBp",
    "outputId": "c335eef5-0877-4f6f-db4e-27f014987403"
   },
   "outputs": [
    {
     "name": "stdout",
     "output_type": "stream",
     "text": [
      "Data inputs tensor([[1., 0., 0., 0., 0., 0., 0., 0., 0., 0., 0., 0., 0., 0., 0., 0., 0., 0.,\n",
      "         0., 0., 0., 0., 0., 0., 0., 0., 0., 0., 0., 0., 0., 0., 0., 0., 0., 0.,\n",
      "         0., 0., 0., 0.],\n",
      "        [1., 0., 0., 0., 0., 0., 0., 0., 0., 0., 0., 0., 0., 0., 0., 0., 0., 0.,\n",
      "         0., 0., 0., 0., 0., 0., 0., 0., 0., 0., 0., 0., 0., 0., 0., 0., 0., 0.,\n",
      "         0., 0., 0., 0.],\n",
      "        [0., 1., 0., 0., 0., 0., 0., 0., 0., 0., 0., 0., 0., 0., 0., 0., 0., 0.,\n",
      "         0., 0., 0., 0., 0., 0., 0., 0., 0., 0., 0., 0., 0., 0., 0., 0., 0., 0.,\n",
      "         0., 0., 0., 0.],\n",
      "        [0., 1., 0., 0., 0., 0., 0., 0., 0., 0., 0., 0., 0., 0., 0., 0., 0., 0.,\n",
      "         0., 0., 0., 0., 0., 0., 0., 0., 0., 0., 0., 0., 0., 0., 0., 0., 0., 0.,\n",
      "         0., 0., 0., 0.],\n",
      "        [0., 1., 0., 0., 0., 0., 0., 0., 0., 0., 0., 0., 0., 0., 0., 0., 0., 0.,\n",
      "         0., 0., 0., 0., 0., 0., 0., 0., 0., 0., 0., 0., 0., 0., 0., 0., 0., 0.,\n",
      "         0., 0., 0., 0.],\n",
      "        [0., 0., 1., 0., 0., 0., 0., 0., 0., 0., 0., 0., 0., 0., 0., 0., 0., 0.,\n",
      "         0., 0., 0., 0., 0., 0., 0., 0., 0., 0., 0., 0., 0., 0., 0., 0., 0., 0.,\n",
      "         0., 0., 0., 0.],\n",
      "        [0., 0., 1., 0., 0., 0., 0., 0., 0., 0., 0., 0., 0., 0., 0., 0., 0., 0.,\n",
      "         0., 0., 0., 0., 0., 0., 0., 0., 0., 0., 0., 0., 0., 0., 0., 0., 0., 0.,\n",
      "         0., 0., 0., 0.],\n",
      "        [0., 0., 1., 0., 0., 0., 0., 0., 0., 0., 0., 0., 0., 0., 0., 0., 0., 0.,\n",
      "         0., 0., 0., 0., 0., 0., 0., 0., 0., 0., 0., 0., 0., 0., 0., 0., 0., 0.,\n",
      "         0., 0., 0., 0.],\n",
      "        [0., 0., 1., 0., 0., 0., 0., 0., 0., 0., 0., 0., 0., 0., 0., 0., 0., 0.,\n",
      "         0., 0., 0., 0., 0., 0., 0., 0., 0., 0., 0., 0., 0., 0., 0., 0., 0., 0.,\n",
      "         0., 0., 0., 0.],\n",
      "        [0., 0., 0., 1., 0., 0., 0., 0., 0., 0., 0., 0., 0., 0., 0., 0., 0., 0.,\n",
      "         0., 0., 0., 0., 0., 0., 0., 0., 0., 0., 0., 0., 0., 0., 0., 0., 0., 0.,\n",
      "         0., 0., 0., 0.]])\n",
      "Data labels tensor([[0., 1., 0., 0., 0., 0., 0., 0., 0., 0., 0., 0., 0., 0., 0., 0., 0., 0.,\n",
      "         0., 0., 0., 0., 0., 0., 0., 0., 0., 0., 0., 0., 0., 0., 0., 0., 0., 0.,\n",
      "         0., 0., 0., 0.],\n",
      "        [0., 0., 1., 0., 0., 0., 0., 0., 0., 0., 0., 0., 0., 0., 0., 0., 0., 0.,\n",
      "         0., 0., 0., 0., 0., 0., 0., 0., 0., 0., 0., 0., 0., 0., 0., 0., 0., 0.,\n",
      "         0., 0., 0., 0.],\n",
      "        [0., 0., 1., 0., 0., 0., 0., 0., 0., 0., 0., 0., 0., 0., 0., 0., 0., 0.,\n",
      "         0., 0., 0., 0., 0., 0., 0., 0., 0., 0., 0., 0., 0., 0., 0., 0., 0., 0.,\n",
      "         0., 0., 0., 0.],\n",
      "        [0., 0., 0., 1., 0., 0., 0., 0., 0., 0., 0., 0., 0., 0., 0., 0., 0., 0.,\n",
      "         0., 0., 0., 0., 0., 0., 0., 0., 0., 0., 0., 0., 0., 0., 0., 0., 0., 0.,\n",
      "         0., 0., 0., 0.],\n",
      "        [1., 0., 0., 0., 0., 0., 0., 0., 0., 0., 0., 0., 0., 0., 0., 0., 0., 0.,\n",
      "         0., 0., 0., 0., 0., 0., 0., 0., 0., 0., 0., 0., 0., 0., 0., 0., 0., 0.,\n",
      "         0., 0., 0., 0.],\n",
      "        [0., 0., 0., 1., 0., 0., 0., 0., 0., 0., 0., 0., 0., 0., 0., 0., 0., 0.,\n",
      "         0., 0., 0., 0., 0., 0., 0., 0., 0., 0., 0., 0., 0., 0., 0., 0., 0., 0.,\n",
      "         0., 0., 0., 0.],\n",
      "        [0., 0., 0., 0., 1., 0., 0., 0., 0., 0., 0., 0., 0., 0., 0., 0., 0., 0.,\n",
      "         0., 0., 0., 0., 0., 0., 0., 0., 0., 0., 0., 0., 0., 0., 0., 0., 0., 0.,\n",
      "         0., 0., 0., 0.],\n",
      "        [0., 1., 0., 0., 0., 0., 0., 0., 0., 0., 0., 0., 0., 0., 0., 0., 0., 0.,\n",
      "         0., 0., 0., 0., 0., 0., 0., 0., 0., 0., 0., 0., 0., 0., 0., 0., 0., 0.,\n",
      "         0., 0., 0., 0.],\n",
      "        [1., 0., 0., 0., 0., 0., 0., 0., 0., 0., 0., 0., 0., 0., 0., 0., 0., 0.,\n",
      "         0., 0., 0., 0., 0., 0., 0., 0., 0., 0., 0., 0., 0., 0., 0., 0., 0., 0.,\n",
      "         0., 0., 0., 0.],\n",
      "        [0., 0., 0., 0., 1., 0., 0., 0., 0., 0., 0., 0., 0., 0., 0., 0., 0., 0.,\n",
      "         0., 0., 0., 0., 0., 0., 0., 0., 0., 0., 0., 0., 0., 0., 0., 0., 0., 0.,\n",
      "         0., 0., 0., 0.]])\n"
     ]
    }
   ],
   "source": [
    "data_inputs, data_labels = next(iter(train_data_loader))\n",
    "print(\"Data inputs\", data_inputs.squeeze())\n",
    "print(\"Data labels\", data_labels.squeeze())"
   ]
  },
  {
   "cell_type": "code",
   "execution_count": 41,
   "metadata": {
    "executionInfo": {
     "elapsed": 11,
     "status": "ok",
     "timestamp": 1712659657429,
     "user": {
      "displayName": "Partha Sarathi Chakraborty",
      "userId": "13360791428869082126"
     },
     "user_tz": -330
    },
    "id": "m-m0mKjtgJ3s"
   },
   "outputs": [],
   "source": [
    "class skipgram_model(nn.Module):\n",
    "\n",
    "  def __init__(self,vocab_size,embedding_dim):\n",
    "    super().__init__()\n",
    "    self.linear_layer1=nn.Linear(vocab_size,embedding_dim)\n",
    "    self.linear_layer2=nn.Linear(embedding_dim,vocab_size)\n",
    "    self.softmax_layer=nn.Softmax(dim=1)\n",
    "\n",
    "  def forward(self,x):\n",
    "    return self.softmax_layer(self.linear_layer2(self.linear_layer1(x)))"
   ]
  },
  {
   "cell_type": "code",
   "execution_count": 42,
   "metadata": {
    "executionInfo": {
     "elapsed": 11,
     "status": "ok",
     "timestamp": 1712659657430,
     "user": {
      "displayName": "Partha Sarathi Chakraborty",
      "userId": "13360791428869082126"
     },
     "user_tz": -330
    },
    "id": "KEl4x49RkYc7"
   },
   "outputs": [],
   "source": [
    "w2v_skipgram_model=skipgram_model(vocab_size,100)"
   ]
  },
  {
   "cell_type": "code",
   "execution_count": 43,
   "metadata": {
    "executionInfo": {
     "elapsed": 2746,
     "status": "ok",
     "timestamp": 1712659660166,
     "user": {
      "displayName": "Partha Sarathi Chakraborty",
      "userId": "13360791428869082126"
     },
     "user_tz": -330
    },
    "id": "_mGuA_XHixcQ"
   },
   "outputs": [],
   "source": [
    "loss=nn.CrossEntropyLoss()\n",
    "optimizer=torch.optim.SGD(w2v_skipgram_model.parameters(),lr=0.01)"
   ]
  },
  {
   "cell_type": "code",
   "execution_count": 44,
   "metadata": {
    "colab": {
     "base_uri": "https://localhost:8080/"
    },
    "executionInfo": {
     "elapsed": 8,
     "status": "ok",
     "timestamp": 1712659660166,
     "user": {
      "displayName": "Partha Sarathi Chakraborty",
      "userId": "13360791428869082126"
     },
     "user_tz": -330
    },
    "id": "SEqVqmF2ixXk",
    "outputId": "964aaf10-028f-4825-f593-68dd8bf1cbfa"
   },
   "outputs": [
    {
     "name": "stdout",
     "output_type": "stream",
     "text": [
      "cuda\n"
     ]
    }
   ],
   "source": [
    "device= \"cuda\" if torch.cuda.is_available() else \"cpu\"\n",
    "print(device)"
   ]
  },
  {
   "cell_type": "code",
   "execution_count": 45,
   "metadata": {
    "colab": {
     "base_uri": "https://localhost:8080/"
    },
    "executionInfo": {
     "elapsed": 458,
     "status": "ok",
     "timestamp": 1712659660619,
     "user": {
      "displayName": "Partha Sarathi Chakraborty",
      "userId": "13360791428869082126"
     },
     "user_tz": -330
    },
    "id": "PUp1AYmsixSL",
    "outputId": "340940e3-19df-439b-e7d1-6755623c1ae4"
   },
   "outputs": [
    {
     "data": {
      "text/plain": [
       "skipgram_model(\n",
       "  (linear_layer1): Linear(in_features=40, out_features=100, bias=True)\n",
       "  (linear_layer2): Linear(in_features=100, out_features=40, bias=True)\n",
       "  (softmax_layer): Softmax(dim=1)\n",
       ")"
      ]
     },
     "execution_count": 45,
     "metadata": {},
     "output_type": "execute_result"
    }
   ],
   "source": [
    "w2v_skipgram_model.to(device)"
   ]
  },
  {
   "cell_type": "code",
   "execution_count": 46,
   "metadata": {
    "executionInfo": {
     "elapsed": 6,
     "status": "ok",
     "timestamp": 1712659660620,
     "user": {
      "displayName": "Partha Sarathi Chakraborty",
      "userId": "13360791428869082126"
     },
     "user_tz": -330
    },
    "id": "H8fxGZRlixPp"
   },
   "outputs": [],
   "source": [
    "def training_loop(model,loss,optimizer,data_loader,epochs):\n",
    "\n",
    "  model.train()\n",
    "\n",
    "  for epoch in range(1,epochs+1):\n",
    "    loss_item=[]\n",
    "    for x,y in data_loader:\n",
    "      x=x.to(device)\n",
    "      y=y.squeeze()\n",
    "      y=y.to(device)\n",
    "\n",
    "      pred=model(x)\n",
    "      pred=pred.squeeze()\n",
    "      loss_=loss(pred,y)\n",
    "      loss_item.append(loss_.item())\n",
    "      optimizer.zero_grad()\n",
    "      loss_.backward()\n",
    "      optimizer.step()\n",
    "\n",
    "    print(f\"epoch-{epoch} | loss-{np.sum(loss_item)}\")"
   ]
  },
  {
   "cell_type": "code",
   "execution_count": 47,
   "metadata": {
    "colab": {
     "base_uri": "https://localhost:8080/"
    },
    "executionInfo": {
     "elapsed": 3266,
     "status": "ok",
     "timestamp": 1712659663880,
     "user": {
      "displayName": "Partha Sarathi Chakraborty",
      "userId": "13360791428869082126"
     },
     "user_tz": -330
    },
    "id": "nKgzhlSvixNQ",
    "outputId": "a2f57a9c-6798-4c5b-9d15-bd6c96b15603"
   },
   "outputs": [
    {
     "name": "stdout",
     "output_type": "stream",
     "text": [
      "epoch-1 | loss-77.46647238731384\n",
      "epoch-2 | loss-77.46637344360352\n",
      "epoch-3 | loss-77.4662721157074\n",
      "epoch-4 | loss-77.46616983413696\n",
      "epoch-5 | loss-77.46606779098511\n",
      "epoch-6 | loss-77.46596813201904\n",
      "epoch-7 | loss-77.46586608886719\n",
      "epoch-8 | loss-77.46576499938965\n",
      "epoch-9 | loss-77.46566343307495\n",
      "epoch-10 | loss-77.46556282043457\n",
      "epoch-11 | loss-77.46545958518982\n",
      "epoch-12 | loss-77.4653570652008\n",
      "epoch-13 | loss-77.46525454521179\n",
      "epoch-14 | loss-77.46515226364136\n",
      "epoch-15 | loss-77.46504998207092\n",
      "epoch-16 | loss-77.46494913101196\n",
      "epoch-17 | loss-77.46484565734863\n",
      "epoch-18 | loss-77.46474194526672\n",
      "epoch-19 | loss-77.46463918685913\n",
      "epoch-20 | loss-77.4645369052887\n",
      "epoch-21 | loss-77.46443152427673\n",
      "epoch-22 | loss-77.4643292427063\n",
      "epoch-23 | loss-77.46422576904297\n",
      "epoch-24 | loss-77.4641215801239\n",
      "epoch-25 | loss-77.46401810646057\n",
      "epoch-26 | loss-77.46391415596008\n",
      "epoch-27 | loss-77.46380949020386\n",
      "epoch-28 | loss-77.46370482444763\n",
      "epoch-29 | loss-77.46360063552856\n",
      "epoch-30 | loss-77.46349453926086\n",
      "epoch-31 | loss-77.46339058876038\n",
      "epoch-32 | loss-77.46328496932983\n",
      "epoch-33 | loss-77.46318006515503\n",
      "epoch-34 | loss-77.46307420730591\n",
      "epoch-35 | loss-77.46296787261963\n",
      "epoch-36 | loss-77.4628643989563\n",
      "epoch-37 | loss-77.46275782585144\n",
      "epoch-38 | loss-77.4626522064209\n",
      "epoch-39 | loss-77.46254682540894\n",
      "epoch-40 | loss-77.46243906021118\n",
      "epoch-41 | loss-77.46233344078064\n",
      "epoch-42 | loss-77.46222519874573\n",
      "epoch-43 | loss-77.46211957931519\n",
      "epoch-44 | loss-77.46201372146606\n",
      "epoch-45 | loss-77.46190571784973\n",
      "epoch-46 | loss-77.46179842948914\n",
      "epoch-47 | loss-77.46169114112854\n",
      "epoch-48 | loss-77.46158385276794\n",
      "epoch-49 | loss-77.46147537231445\n",
      "epoch-50 | loss-77.46136808395386\n",
      "epoch-51 | loss-77.46125984191895\n",
      "epoch-52 | loss-77.46115279197693\n",
      "epoch-53 | loss-77.4610447883606\n",
      "epoch-54 | loss-77.46093440055847\n",
      "epoch-55 | loss-77.4608268737793\n",
      "epoch-56 | loss-77.46071720123291\n",
      "epoch-57 | loss-77.46060800552368\n",
      "epoch-58 | loss-77.46049928665161\n",
      "epoch-59 | loss-77.46038770675659\n",
      "epoch-60 | loss-77.4602792263031\n",
      "epoch-61 | loss-77.46017003059387\n",
      "epoch-62 | loss-77.46006083488464\n",
      "epoch-63 | loss-77.45995140075684\n",
      "epoch-64 | loss-77.45984077453613\n",
      "epoch-65 | loss-77.45972919464111\n",
      "epoch-66 | loss-77.45961833000183\n",
      "epoch-67 | loss-77.45950841903687\n",
      "epoch-68 | loss-77.45939707756042\n",
      "epoch-69 | loss-77.45928645133972\n",
      "epoch-70 | loss-77.45917558670044\n",
      "epoch-71 | loss-77.45906352996826\n",
      "epoch-72 | loss-77.45895266532898\n",
      "epoch-73 | loss-77.4588394165039\n",
      "epoch-74 | loss-77.45872902870178\n",
      "epoch-75 | loss-77.45861434936523\n",
      "epoch-76 | loss-77.4585030078888\n",
      "epoch-77 | loss-77.4583911895752\n",
      "epoch-78 | loss-77.45827841758728\n",
      "epoch-79 | loss-77.45816493034363\n",
      "epoch-80 | loss-77.45805168151855\n",
      "epoch-81 | loss-77.45793986320496\n",
      "epoch-82 | loss-77.45782685279846\n",
      "epoch-83 | loss-77.45771193504333\n",
      "epoch-84 | loss-77.45759701728821\n",
      "epoch-85 | loss-77.45748519897461\n",
      "epoch-86 | loss-77.45736932754517\n",
      "epoch-87 | loss-77.45725607872009\n",
      "epoch-88 | loss-77.45714139938354\n",
      "epoch-89 | loss-77.457026720047\n",
      "epoch-90 | loss-77.45691180229187\n",
      "epoch-91 | loss-77.45679712295532\n",
      "epoch-92 | loss-77.45668148994446\n",
      "epoch-93 | loss-77.4565646648407\n",
      "epoch-94 | loss-77.45645189285278\n",
      "epoch-95 | loss-77.45633602142334\n",
      "epoch-96 | loss-77.45621919631958\n",
      "epoch-97 | loss-77.45610332489014\n",
      "epoch-98 | loss-77.45598697662354\n",
      "epoch-99 | loss-77.45587062835693\n",
      "epoch-100 | loss-77.45575332641602\n"
     ]
    }
   ],
   "source": [
    "training_loop(w2v_skipgram_model,loss,optimizer,train_data_loader,100)"
   ]
  },
  {
   "cell_type": "code",
   "execution_count": 48,
   "metadata": {
    "colab": {
     "base_uri": "https://localhost:8080/"
    },
    "executionInfo": {
     "elapsed": 38,
     "status": "ok",
     "timestamp": 1712659663880,
     "user": {
      "displayName": "Partha Sarathi Chakraborty",
      "userId": "13360791428869082126"
     },
     "user_tz": -330
    },
    "id": "gp8YoXhrixKX",
    "outputId": "3d32c38c-7421-4ea4-a60d-39734e5e0ae5"
   },
   "outputs": [
    {
     "name": "stdout",
     "output_type": "stream",
     "text": [
      "skipgram_model(\n",
      "  (linear_layer1): Linear(in_features=40, out_features=100, bias=True)\n",
      "  (linear_layer2): Linear(in_features=100, out_features=40, bias=True)\n",
      "  (softmax_layer): Softmax(dim=1)\n",
      ")\n"
     ]
    }
   ],
   "source": [
    "print(w2v_skipgram_model)"
   ]
  },
  {
   "cell_type": "code",
   "execution_count": 50,
   "metadata": {
    "colab": {
     "base_uri": "https://localhost:8080/"
    },
    "executionInfo": {
     "elapsed": 711,
     "status": "ok",
     "timestamp": 1712659682673,
     "user": {
      "displayName": "Partha Sarathi Chakraborty",
      "userId": "13360791428869082126"
     },
     "user_tz": -330
    },
    "id": "EKmrevvoixHI",
    "outputId": "87afcb1f-154c-4e2c-8b7a-1f342f2e0462"
   },
   "outputs": [
    {
     "name": "stderr",
     "output_type": "stream",
     "text": [
      "<ipython-input-50-07f852990f78>:1: UserWarning: To copy construct from a tensor, it is recommended to use sourceTensor.clone().detach() or sourceTensor.clone().detach().requires_grad_(True), rather than torch.tensor(sourceTensor).\n",
      "  print(index_to_word[6], \"embeddings\",\"-->\",torch.tensor(list(w2v_skipgram_model.parameters())[0]).t()[6])\n"
     ]
    },
    {
     "name": "stdout",
     "output_type": "stream",
     "text": [
      "tortoise embeddings --> tensor([-0.1158,  0.1237,  0.1015,  0.0521, -0.1310,  0.0940,  0.1091,  0.0940,\n",
      "        -0.0267,  0.1248, -0.0875, -0.0898, -0.1469,  0.0975,  0.0377,  0.0764,\n",
      "         0.0523,  0.0957, -0.1402,  0.1049,  0.1524, -0.0167,  0.1404, -0.0204,\n",
      "        -0.1102,  0.0039,  0.0204, -0.0752,  0.0081, -0.0895, -0.0216, -0.0283,\n",
      "         0.0907, -0.0492, -0.1136,  0.0066, -0.0815, -0.1505,  0.0039,  0.0951,\n",
      "        -0.0345,  0.0713, -0.1242, -0.1322, -0.0165, -0.0737,  0.0794,  0.1476,\n",
      "         0.1064, -0.0431,  0.1445,  0.1408, -0.1415,  0.1344, -0.0036, -0.1023,\n",
      "         0.0272,  0.0918,  0.0821, -0.1136, -0.0437, -0.1256,  0.1211,  0.1200,\n",
      "         0.0104,  0.1026,  0.1368,  0.0076, -0.1439, -0.0457,  0.0578, -0.1115,\n",
      "        -0.0345, -0.1441,  0.1392,  0.0637,  0.0326, -0.0171, -0.1329,  0.1563,\n",
      "         0.0529,  0.1378,  0.1007,  0.1172,  0.1577,  0.1429, -0.1398, -0.1053,\n",
      "        -0.1538,  0.0481, -0.0720,  0.0282, -0.0041,  0.0258,  0.0241, -0.0384,\n",
      "         0.1440,  0.1357,  0.0326,  0.0533], device='cuda:0')\n"
     ]
    }
   ],
   "source": [
    "print(index_to_word[6], \"embeddings\",\"-->\",torch.tensor(list(w2v_skipgram_model.parameters())[0]).t()[6])"
   ]
  }
 ],
 "metadata": {
  "accelerator": "GPU",
  "colab": {
   "gpuType": "T4",
   "provenance": []
  },
  "kernelspec": {
   "display_name": "Python 3 (ipykernel)",
   "language": "python",
   "name": "python3"
  },
  "language_info": {
   "codemirror_mode": {
    "name": "ipython",
    "version": 3
   },
   "file_extension": ".py",
   "mimetype": "text/x-python",
   "name": "python",
   "nbconvert_exporter": "python",
   "pygments_lexer": "ipython3",
   "version": "3.11.5"
  }
 },
 "nbformat": 4,
 "nbformat_minor": 1
}
